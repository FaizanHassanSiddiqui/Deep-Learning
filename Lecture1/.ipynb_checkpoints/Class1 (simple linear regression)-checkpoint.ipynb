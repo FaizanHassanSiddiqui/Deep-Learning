{
 "cells": [
  {
   "cell_type": "markdown",
   "metadata": {},
   "source": [
    "# Understanding simple linear regression"
   ]
  },
  {
   "cell_type": "code",
   "execution_count": 4,
   "metadata": {},
   "outputs": [],
   "source": [
    "import matplotlib.pyplot as plt\n",
    "import pandas as pd\n",
    "import numpy as np"
   ]
  },
  {
   "cell_type": "code",
   "execution_count": 5,
   "metadata": {},
   "outputs": [],
   "source": [
    "df = pd.read_csv(\"weight-height.csv\")"
   ]
  },
  {
   "cell_type": "code",
   "execution_count": 9,
   "metadata": {},
   "outputs": [
    {
     "name": "stdout",
     "output_type": "stream",
     "text": [
      "<class 'pandas.core.frame.DataFrame'>\n",
      "RangeIndex: 10000 entries, 0 to 9999\n",
      "Data columns (total 3 columns):\n",
      " #   Column  Non-Null Count  Dtype  \n",
      "---  ------  --------------  -----  \n",
      " 0   Gender  10000 non-null  object \n",
      " 1   Height  10000 non-null  float64\n",
      " 2   Weight  10000 non-null  float64\n",
      "dtypes: float64(2), object(1)\n",
      "memory usage: 234.5+ KB\n"
     ]
    }
   ],
   "source": [
    "df.info()"
   ]
  },
  {
   "cell_type": "code",
   "execution_count": 6,
   "metadata": {},
   "outputs": [
    {
     "data": {
      "text/html": [
       "<div>\n",
       "<style scoped>\n",
       "    .dataframe tbody tr th:only-of-type {\n",
       "        vertical-align: middle;\n",
       "    }\n",
       "\n",
       "    .dataframe tbody tr th {\n",
       "        vertical-align: top;\n",
       "    }\n",
       "\n",
       "    .dataframe thead th {\n",
       "        text-align: right;\n",
       "    }\n",
       "</style>\n",
       "<table border=\"1\" class=\"dataframe\">\n",
       "  <thead>\n",
       "    <tr style=\"text-align: right;\">\n",
       "      <th></th>\n",
       "      <th>Gender</th>\n",
       "      <th>Height</th>\n",
       "      <th>Weight</th>\n",
       "    </tr>\n",
       "  </thead>\n",
       "  <tbody>\n",
       "    <tr>\n",
       "      <th>0</th>\n",
       "      <td>Male</td>\n",
       "      <td>73.847017</td>\n",
       "      <td>241.893563</td>\n",
       "    </tr>\n",
       "    <tr>\n",
       "      <th>1</th>\n",
       "      <td>Male</td>\n",
       "      <td>68.781904</td>\n",
       "      <td>162.310473</td>\n",
       "    </tr>\n",
       "    <tr>\n",
       "      <th>2</th>\n",
       "      <td>Male</td>\n",
       "      <td>74.110105</td>\n",
       "      <td>212.740856</td>\n",
       "    </tr>\n",
       "    <tr>\n",
       "      <th>3</th>\n",
       "      <td>Male</td>\n",
       "      <td>71.730978</td>\n",
       "      <td>220.042470</td>\n",
       "    </tr>\n",
       "    <tr>\n",
       "      <th>4</th>\n",
       "      <td>Male</td>\n",
       "      <td>69.881796</td>\n",
       "      <td>206.349801</td>\n",
       "    </tr>\n",
       "  </tbody>\n",
       "</table>\n",
       "</div>"
      ],
      "text/plain": [
       "  Gender     Height      Weight\n",
       "0   Male  73.847017  241.893563\n",
       "1   Male  68.781904  162.310473\n",
       "2   Male  74.110105  212.740856\n",
       "3   Male  71.730978  220.042470\n",
       "4   Male  69.881796  206.349801"
      ]
     },
     "execution_count": 6,
     "metadata": {},
     "output_type": "execute_result"
    }
   ],
   "source": [
    "df.head()"
   ]
  },
  {
   "cell_type": "code",
   "execution_count": 20,
   "metadata": {},
   "outputs": [
    {
     "name": "stdout",
     "output_type": "stream",
     "text": [
      "length of vector X is 10000\n",
      "\n"
     ]
    },
    {
     "data": {
      "text/plain": [
       "array([73.84701702, 68.78190405, 74.11010539, ..., 63.86799221,\n",
       "       69.03424313, 61.94424588])"
      ]
     },
     "execution_count": 20,
     "metadata": {},
     "output_type": "execute_result"
    }
   ],
   "source": [
    "X = df.Height.values    # height ---- input vector\n",
    "print(f\"length of vector X is {len(X)}\", end= \"\\n\\n\")\n",
    "X"
   ]
  },
  {
   "cell_type": "code",
   "execution_count": 22,
   "metadata": {},
   "outputs": [
    {
     "name": "stdout",
     "output_type": "stream",
     "text": [
      "length of vector y_label is 10000\n",
      "\n"
     ]
    },
    {
     "data": {
      "text/plain": [
       "array([241.89356318, 162.31047252, 212.74085556, ..., 128.47531878,\n",
       "       163.85246135, 113.64910268])"
      ]
     },
     "execution_count": 22,
     "metadata": {},
     "output_type": "execute_result"
    }
   ],
   "source": [
    "y_actual = df.Weight.values   # weight ---- output vector, labels\n",
    "print(f\"length of vector y_actual is {len(y_actual)}\", end= \"\\n\\n\")\n",
    "y_actual            \n",
    "\n",
    "# Note: the output should read 'length of vector y_actual is 10000'. I changed the variable name after running the cell"
   ]
  },
  {
   "cell_type": "code",
   "execution_count": 23,
   "metadata": {},
   "outputs": [],
   "source": [
    "# line equation function\n",
    "\n",
    "def line(x, w=0, b=0):\n",
    "    return x*w +b\n",
    "\n",
    "def mean_squared_error(y_actual, y_pred):\n",
    "    squared_error = (y_actual - y_pred)**2\n",
    "    return np.sqrt(squared_error.mean())\n"
   ]
  },
  {
   "cell_type": "code",
   "execution_count": 55,
   "metadata": {},
   "outputs": [
    {
     "data": {
      "text/plain": [
       "Text(0, 0.5, 'Loss')"
      ]
     },
     "execution_count": 55,
     "metadata": {},
     "output_type": "execute_result"
    },
    {
     "data": {
      "image/png": "[encoded data removed]",
      "text/plain": [
       "<Figure size 720x360 with 2 Axes>"
      ]
     },
     "metadata": {
      "needs_background": "light"
     },
     "output_type": "display_data"
    }
   ],
   "source": [
    "# visualizing the data\n",
    "\n",
    "plt.figure(figsize=(10,5))\n",
    "ax1 = plt.subplot(121) # rows, columns, slect-column, these are for plots that are shown below. We will make 2 plots in 1 row.\n",
    "df.plot(kind = \"scatter\",\n",
    "       x=\"Height\",\n",
    "       y= \"Weight\",\n",
    "       title=\"Weight against Height\",\n",
    "        ax=ax1)\n",
    "# creating a list of biases.\n",
    "bs = [-500, -450, -400, -350, -300, -250]   # b here is y-intercept(bias) to create 6 lines.... selected suitable b's\n",
    "\n",
    "mean_squared_errors = []\n",
    "for b in bs:\n",
    "    y_pred = line(X, w=8, b=b)     # fixing the value of weight here. 8 seemed like a good gradient value.\n",
    "    mean_squared_errors.append(mean_squared_error(y_actual, y_pred))\n",
    "    plt.plot(X, y_pred)\n",
    "\n",
    "ax1 = plt.subplot(122)  # now we have selected the second column to plot loss fiqure next to the data figure.\n",
    "plt.plot(bs, mean_squared_errors, \"o-\")\n",
    "plt.title(\"Loss/Cost function for each of the 6 lines\")\n",
    "plt.xlabel(\"Bias (b)\")\n",
    "plt.ylabel(\"Loss\")"
   ]
  },
  {
   "cell_type": "markdown",
   "metadata": {},
   "source": [
    "# Learning parameters (weight and bias) using neural network"
   ]
  },
  {
   "cell_type": "code",
   "execution_count": 57,
   "metadata": {},
   "outputs": [],
   "source": [
    "from tensorflow.keras.models import Sequential\n",
    "from tensorflow.keras.layers import Dense\n",
    "from tensorflow.keras.optimizers import Adam, SGD"
   ]
  },
  {
   "cell_type": "code",
   "execution_count": 58,
   "metadata": {},
   "outputs": [
    {
     "name": "stdout",
     "output_type": "stream",
     "text": [
      "[73.84701702 68.78190405 74.11010539 71.7309784  69.88179586]\n",
      "[241.89356318 162.31047252 212.74085556 220.0424703  206.34980062]\n"
     ]
    }
   ],
   "source": [
    "print(X[:5], y_actual[:5], sep=\"\\n\")"
   ]
  },
  {
   "cell_type": "code",
   "execution_count": 59,
   "metadata": {},
   "outputs": [
    {
     "data": {
      "text/plain": [
       "(10000,)"
      ]
     },
     "execution_count": 59,
     "metadata": {},
     "output_type": "execute_result"
    }
   ],
   "source": [
    "X.shape"
   ]
  },
  {
   "cell_type": "code",
   "execution_count": 60,
   "metadata": {},
   "outputs": [],
   "source": [
    "model = Sequential()   \n",
    "model.add(Dense(1, input_shape=(1,)))    # no. of nodes, input size (in this case we have only one feature)"
   ]
  },
  {
   "cell_type": "code",
   "execution_count": 61,
   "metadata": {},
   "outputs": [
    {
     "name": "stdout",
     "output_type": "stream",
     "text": [
      "Model: \"sequential\"\n",
      "_________________________________________________________________\n",
      "Layer (type)                 Output Shape              Param #   \n",
      "=================================================================\n",
      "dense (Dense)                (None, 1)                 2         \n",
      "=================================================================\n",
      "Total params: 2\n",
      "Trainable params: 2\n",
      "Non-trainable params: 0\n",
      "_________________________________________________________________\n"
     ]
    }
   ],
   "source": [
    "model.summary()"
   ]
  },
  {
   "cell_type": "code",
   "execution_count": 62,
   "metadata": {},
   "outputs": [],
   "source": [
    "model.compile(Adam(lr=0.8), \"mean_squared_error\")"
   ]
  },
  {
   "cell_type": "code",
   "execution_count": 68,
   "metadata": {},
   "outputs": [
    {
     "name": "stdout",
     "output_type": "stream",
     "text": [
      "Epoch 1/25\n",
      "313/313 [==============================] - 1s 2ms/step - loss: 176.1130\n",
      "Epoch 2/25\n",
      "313/313 [==============================] - 1s 2ms/step - loss: 177.1969\n",
      "Epoch 3/25\n",
      "313/313 [==============================] - 1s 2ms/step - loss: 180.9796\n",
      "Epoch 4/25\n",
      "313/313 [==============================] - 1s 2ms/step - loss: 185.9503\n",
      "Epoch 5/25\n",
      "313/313 [==============================] - 1s 2ms/step - loss: 175.5882\n",
      "Epoch 6/25\n",
      "313/313 [==============================] - 1s 2ms/step - loss: 176.6055\n",
      "Epoch 7/25\n",
      "313/313 [==============================] - 1s 2ms/step - loss: 184.0741\n",
      "Epoch 8/25\n",
      "313/313 [==============================] - 1s 2ms/step - loss: 189.5005\n",
      "Epoch 9/25\n",
      "313/313 [==============================] - 1s 2ms/step - loss: 171.0254\n",
      "Epoch 10/25\n",
      "313/313 [==============================] - 1s 2ms/step - loss: 175.7654\n",
      "Epoch 11/25\n",
      "313/313 [==============================] - 1s 2ms/step - loss: 174.2141\n",
      "Epoch 12/25\n",
      "313/313 [==============================] - 1s 2ms/step - loss: 180.7423\n",
      "Epoch 13/25\n",
      "313/313 [==============================] - 1s 2ms/step - loss: 179.5209\n",
      "Epoch 14/25\n",
      "313/313 [==============================] - 1s 2ms/step - loss: 196.7382\n",
      "Epoch 15/25\n",
      "313/313 [==============================] - 1s 2ms/step - loss: 166.6307\n",
      "Epoch 16/25\n",
      "313/313 [==============================] - 1s 2ms/step - loss: 193.2031\n",
      "Epoch 17/25\n",
      "313/313 [==============================] - 1s 2ms/step - loss: 175.2920\n",
      "Epoch 18/25\n",
      "313/313 [==============================] - 1s 2ms/step - loss: 172.4151\n",
      "Epoch 19/25\n",
      "313/313 [==============================] - 1s 2ms/step - loss: 179.0485\n",
      "Epoch 20/25\n",
      "313/313 [==============================] - 1s 2ms/step - loss: 183.3264\n",
      "Epoch 21/25\n",
      "313/313 [==============================] - 1s 2ms/step - loss: 180.8350\n",
      "Epoch 22/25\n",
      "313/313 [==============================] - 1s 2ms/step - loss: 192.3981\n",
      "Epoch 23/25\n",
      "313/313 [==============================] - 1s 2ms/step - loss: 172.9120\n",
      "Epoch 24/25\n",
      "313/313 [==============================] - 1s 2ms/step - loss: 176.5467A: 0s - loss: 1\n",
      "Epoch 25/25\n",
      "313/313 [==============================] - 1s 2ms/step - loss: 164.5457\n"
     ]
    },
    {
     "data": {
      "text/plain": [
       "<tensorflow.python.keras.callbacks.History at 0x2543ebcc640>"
      ]
     },
     "execution_count": 68,
     "metadata": {},
     "output_type": "execute_result"
    }
   ],
   "source": [
    "model.fit(X, y_actual, epochs = 25)"
   ]
  },
  {
   "cell_type": "code",
   "execution_count": 69,
   "metadata": {},
   "outputs": [
    {
     "data": {
      "text/plain": [
       "array([[215.30591],\n",
       "       [176.48096],\n",
       "       [217.32251],\n",
       "       ...,\n",
       "       [138.81494],\n",
       "       [178.41516],\n",
       "       [124.06909]], dtype=float32)"
      ]
     },
     "execution_count": 69,
     "metadata": {},
     "output_type": "execute_result"
    }
   ],
   "source": [
    "y_pred_nn = model.predict(X)\n",
    "y_pred_nn"
   ]
  },
  {
   "cell_type": "code",
   "execution_count": 70,
   "metadata": {},
   "outputs": [
    {
     "data": {
      "text/plain": [
       "[<matplotlib.lines.Line2D at 0x2543f343be0>]"
      ]
     },
     "execution_count": 70,
     "metadata": {},
     "output_type": "execute_result"
    },
    {
     "data": {
      "image/png": "[encoded data removed]",
      "text/plain": [
       "<Figure size 432x288 with 1 Axes>"
      ]
     },
     "metadata": {
      "needs_background": "light"
     },
     "output_type": "display_data"
    }
   ],
   "source": [
    "df.plot(kind = \"scatter\",\n",
    "       x=\"Height\",\n",
    "       y= \"Weight\",\n",
    "       title=\"Weight against Height (neural network)\")\n",
    "plt.plot(X, y_pred_nn, color = \"red\")"
   ]
  },
  {
   "cell_type": "code",
   "execution_count": 72,
   "metadata": {},
   "outputs": [
    {
     "name": "stdout",
     "output_type": "stream",
     "text": [
      "[[7.665173]] [-350.74426]\n"
     ]
    }
   ],
   "source": [
    "w, b = model.get_weights()    # parameters of the trained model\n",
    "print(w, b)"
   ]
  },
  {
   "cell_type": "code",
   "execution_count": 73,
   "metadata": {},
   "outputs": [
    {
     "data": {
      "text/plain": [
       "array([[339.12134]], dtype=float32)"
      ]
     },
     "execution_count": 73,
     "metadata": {},
     "output_type": "execute_result"
    }
   ],
   "source": [
    "model.predict([[90]])       # inferring the value of weight against height '90' "
   ]
  },
  {
   "cell_type": "code",
   "execution_count": 77,
   "metadata": {},
   "outputs": [
    {
     "data": {
      "text/plain": [
       "<matplotlib.collections.PathCollection at 0x254469378e0>"
      ]
     },
     "execution_count": 77,
     "metadata": {},
     "output_type": "execute_result"
    },
    {
     "data": {
      "image/png": "[encoded data removed]",
      "text/plain": [
       "<Figure size 432x288 with 1 Axes>"
      ]
     },
     "metadata": {
      "needs_background": "light"
     },
     "output_type": "display_data"
    }
   ],
   "source": [
    "df.plot(kind = \"scatter\",\n",
    "       x=\"Height\",\n",
    "       y= \"Weight\",\n",
    "       title=\"Weight against Height (neural network)\")\n",
    "plt.plot(X, y_pred_nn, color = \"red\")\n",
    "\n",
    "x_value= 90\n",
    "plt.scatter(x_value,model.predict([[x_value]]))     # plotting the value of weight against height '90' "
   ]
  }
 ],
 "metadata": {
  "kernelspec": {
   "display_name": "Python 3",
   "language": "python",
   "name": "python3"
  },
  "language_info": {
   "codemirror_mode": {
    "name": "ipython",
    "version": 3
   },
   "file_extension": ".py",
   "mimetype": "text/x-python",
   "name": "python",
   "nbconvert_exporter": "python",
   "pygments_lexer": "ipython3",
   "version": "3.7.7"
  }
 },
 "nbformat": 4,
 "nbformat_minor": 4
}
