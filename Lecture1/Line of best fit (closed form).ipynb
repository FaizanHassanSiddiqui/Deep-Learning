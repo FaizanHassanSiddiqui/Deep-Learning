{
 "cells": [
  {
   "cell_type": "markdown",
   "metadata": {},
   "source": [
    "# Finding Line of best fit using closed form of least squares method"
   ]
  },
  {
   "cell_type": "code",
   "execution_count": 1,
   "metadata": {},
   "outputs": [],
   "source": [
    "import pandas as pd\n",
    "import numpy as np\n",
    "import matplotlib.pyplot as plt"
   ]
  },
  {
   "cell_type": "code",
   "execution_count": 4,
   "metadata": {},
   "outputs": [],
   "source": [
    "data = pd.read_csv(\"weight-height.csv\")"
   ]
  },
  {
   "cell_type": "code",
   "execution_count": 5,
   "metadata": {},
   "outputs": [
    {
     "data": {
      "text/html": [
       "<div>\n",
       "<style scoped>\n",
       "    .dataframe tbody tr th:only-of-type {\n",
       "        vertical-align: middle;\n",
       "    }\n",
       "\n",
       "    .dataframe tbody tr th {\n",
       "        vertical-align: top;\n",
       "    }\n",
       "\n",
       "    .dataframe thead th {\n",
       "        text-align: right;\n",
       "    }\n",
       "</style>\n",
       "<table border=\"1\" class=\"dataframe\">\n",
       "  <thead>\n",
       "    <tr style=\"text-align: right;\">\n",
       "      <th></th>\n",
       "      <th>Gender</th>\n",
       "      <th>Height</th>\n",
       "      <th>Weight</th>\n",
       "    </tr>\n",
       "  </thead>\n",
       "  <tbody>\n",
       "    <tr>\n",
       "      <th>0</th>\n",
       "      <td>Male</td>\n",
       "      <td>73.847017</td>\n",
       "      <td>241.893563</td>\n",
       "    </tr>\n",
       "    <tr>\n",
       "      <th>1</th>\n",
       "      <td>Male</td>\n",
       "      <td>68.781904</td>\n",
       "      <td>162.310473</td>\n",
       "    </tr>\n",
       "    <tr>\n",
       "      <th>2</th>\n",
       "      <td>Male</td>\n",
       "      <td>74.110105</td>\n",
       "      <td>212.740856</td>\n",
       "    </tr>\n",
       "    <tr>\n",
       "      <th>3</th>\n",
       "      <td>Male</td>\n",
       "      <td>71.730978</td>\n",
       "      <td>220.042470</td>\n",
       "    </tr>\n",
       "    <tr>\n",
       "      <th>4</th>\n",
       "      <td>Male</td>\n",
       "      <td>69.881796</td>\n",
       "      <td>206.349801</td>\n",
       "    </tr>\n",
       "  </tbody>\n",
       "</table>\n",
       "</div>"
      ],
      "text/plain": [
       "  Gender     Height      Weight\n",
       "0   Male  73.847017  241.893563\n",
       "1   Male  68.781904  162.310473\n",
       "2   Male  74.110105  212.740856\n",
       "3   Male  71.730978  220.042470\n",
       "4   Male  69.881796  206.349801"
      ]
     },
     "execution_count": 5,
     "metadata": {},
     "output_type": "execute_result"
    }
   ],
   "source": [
    "data.head()"
   ]
  },
  {
   "cell_type": "code",
   "execution_count": 45,
   "metadata": {},
   "outputs": [],
   "source": [
    "X = data.Height.values[:100]"
   ]
  },
  {
   "cell_type": "code",
   "execution_count": 46,
   "metadata": {},
   "outputs": [],
   "source": [
    "Y = data.Weight.values[:100]\n"
   ]
  },
  {
   "cell_type": "code",
   "execution_count": 47,
   "metadata": {},
   "outputs": [],
   "source": [
    "X = X.reshape(100,1)"
   ]
  },
  {
   "cell_type": "code",
   "execution_count": 50,
   "metadata": {},
   "outputs": [
    {
     "data": {
      "text/plain": [
       "array([[73.84701702],\n",
       "       [68.78190405],\n",
       "       [74.11010539],\n",
       "       [71.7309784 ],\n",
       "       [69.88179586],\n",
       "       [67.25301569],\n",
       "       [68.78508125],\n",
       "       [68.34851551],\n",
       "       [67.01894966],\n",
       "       [63.45649398],\n",
       "       [71.19538228],\n",
       "       [71.64080512],\n",
       "       [64.76632913],\n",
       "       [69.2830701 ],\n",
       "       [69.24373223],\n",
       "       [67.6456197 ],\n",
       "       [72.41831663],\n",
       "       [63.97432572],\n",
       "       [69.6400599 ],\n",
       "       [67.93600485],\n",
       "       [67.91505019],\n",
       "       [69.43943987],\n",
       "       [66.14913196],\n",
       "       [75.20597361],\n",
       "       [67.89319634],\n",
       "       [68.1440328 ],\n",
       "       [69.08963143],\n",
       "       [72.80084352],\n",
       "       [67.42124228],\n",
       "       [68.49641536],\n",
       "       [68.61811055],\n",
       "       [74.03380762],\n",
       "       [71.52821604],\n",
       "       [69.1801611 ],\n",
       "       [69.57720237],\n",
       "       [70.40092889],\n",
       "       [69.07617117],\n",
       "       [67.19352328],\n",
       "       [65.80731565],\n",
       "       [64.30418789],\n",
       "       [67.97433623],\n",
       "       [72.18942596],\n",
       "       [65.27034552],\n",
       "       [66.09017738],\n",
       "       [67.51032152],\n",
       "       [70.10478626],\n",
       "       [68.25183644],\n",
       "       [72.17270912],\n",
       "       [69.17985762],\n",
       "       [72.87036015],\n",
       "       [64.78258298],\n",
       "       [70.18354989],\n",
       "       [68.49145025],\n",
       "       [67.33083088],\n",
       "       [66.99094408],\n",
       "       [66.4995499 ],\n",
       "       [68.35305665],\n",
       "       [70.77445907],\n",
       "       [71.21592367],\n",
       "       [70.01336535],\n",
       "       [71.40318222],\n",
       "       [69.55200509],\n",
       "       [73.81853456],\n",
       "       [66.99688275],\n",
       "       [71.41846589],\n",
       "       [65.27930021],\n",
       "       [68.27419147],\n",
       "       [72.76536995],\n",
       "       [68.0993798 ],\n",
       "       [68.89670607],\n",
       "       [69.28950996],\n",
       "       [70.52322452],\n",
       "       [69.66372523],\n",
       "       [67.59526881],\n",
       "       [72.50812038],\n",
       "       [71.2529856 ],\n",
       "       [71.80918689],\n",
       "       [72.24516548],\n",
       "       [66.51262766],\n",
       "       [66.029034  ],\n",
       "       [67.57715394],\n",
       "       [68.2465686 ],\n",
       "       [73.826127  ],\n",
       "       [69.80246436],\n",
       "       [65.95957778],\n",
       "       [71.07901758],\n",
       "       [66.59619654],\n",
       "       [68.95153509],\n",
       "       [68.24446179],\n",
       "       [72.31682512],\n",
       "       [71.81542045],\n",
       "       [65.23704952],\n",
       "       [70.64053009],\n",
       "       [64.7319256 ],\n",
       "       [67.10355118],\n",
       "       [65.11748489],\n",
       "       [71.70123402],\n",
       "       [66.83287821],\n",
       "       [66.47127526],\n",
       "       [69.41152622]])"
      ]
     },
     "execution_count": 50,
     "metadata": {},
     "output_type": "execute_result"
    }
   ],
   "source": [
    "X"
   ]
  },
  {
   "cell_type": "code",
   "execution_count": 53,
   "metadata": {},
   "outputs": [
    {
     "data": {
      "text/plain": [
       "(100, 2)"
      ]
     },
     "execution_count": 53,
     "metadata": {},
     "output_type": "execute_result"
    }
   ],
   "source": [
    "new_column = np.ones(100)\n",
    "A = np.insert(X, 1, new_column, axis=1)\n",
    "\n",
    "A.shape"
   ]
  },
  {
   "cell_type": "code",
   "execution_count": 55,
   "metadata": {},
   "outputs": [
    {
     "data": {
      "text/plain": [
       "(2, 2)"
      ]
     },
     "execution_count": 55,
     "metadata": {},
     "output_type": "execute_result"
    }
   ],
   "source": [
    "symmetric = np.dot(A.T, A)\n",
    "symmetric.shape"
   ]
  },
  {
   "cell_type": "code",
   "execution_count": 58,
   "metadata": {},
   "outputs": [
    {
     "data": {
      "text/plain": [
       "array([1294111.88842878,   18684.72603339])"
      ]
     },
     "execution_count": 58,
     "metadata": {},
     "output_type": "execute_result"
    }
   ],
   "source": [
    "right_side = np.dot(A.T, Y)\n",
    "right_side"
   ]
  },
  {
   "cell_type": "code",
   "execution_count": 59,
   "metadata": {},
   "outputs": [],
   "source": [
    "m, c = np.linalg.solve(symmetric, right_side)"
   ]
  },
  {
   "cell_type": "code",
   "execution_count": 60,
   "metadata": {},
   "outputs": [
    {
     "name": "stdout",
     "output_type": "stream",
     "text": [
      "gradient of the line of best fit is 5.8514697854193995\n"
     ]
    }
   ],
   "source": [
    "print(\"gradient of the line of best fit is\", m)"
   ]
  },
  {
   "cell_type": "code",
   "execution_count": 61,
   "metadata": {},
   "outputs": [
    {
     "name": "stdout",
     "output_type": "stream",
     "text": [
      "y-intercept of the line is -217.20127044151678\n"
     ]
    }
   ],
   "source": [
    "print(\"y-intercept of the line is\", c)"
   ]
  },
  {
   "cell_type": "code",
   "execution_count": 67,
   "metadata": {},
   "outputs": [],
   "source": [
    "x = np.linspace(62, 76, 100)\n",
    "y = m*x + c"
   ]
  },
  {
   "cell_type": "code",
   "execution_count": 70,
   "metadata": {},
   "outputs": [
    {
     "data": {
      "text/plain": [
       "<matplotlib.legend.Legend at 0x1c14b9a7648>"
      ]
     },
     "execution_count": 70,
     "metadata": {},
     "output_type": "execute_result"
    },
    {
     "data": {
      "image/png": "[encoded data removed]",
      "text/plain": [
       "<Figure size 432x288 with 1 Axes>"
      ]
     },
     "metadata": {
      "needs_background": "light"
     },
     "output_type": "display_data"
    }
   ],
   "source": [
    "df = data[:100]\n",
    "df.plot(kind = \"scatter\",\n",
    "       x=\"Height\",\n",
    "       y= \"Weight\",\n",
    "       title=\"Weight against Height\")\n",
    "plt.plot(x, y, '-r', label= f\"y = {m}x + {c}\")\n",
    "plt.legend(loc='upper left')"
   ]
  }
 ],
 "metadata": {
  "kernelspec": {
   "display_name": "Python 3",
   "language": "python",
   "name": "python3"
  },
  "language_info": {
   "codemirror_mode": {
    "name": "ipython",
    "version": 3
   },
   "file_extension": ".py",
   "mimetype": "text/x-python",
   "name": "python",
   "nbconvert_exporter": "python",
   "pygments_lexer": "ipython3",
   "version": "3.7.7"
  }
 },
 "nbformat": 4,
 "nbformat_minor": 4
}
